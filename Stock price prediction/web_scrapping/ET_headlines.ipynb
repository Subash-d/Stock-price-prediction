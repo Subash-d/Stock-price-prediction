{
 "cells": [
  {
   "cell_type": "markdown",
   "id": "fdc0ce9a",
   "metadata": {},
   "source": [
    "For 2024"
   ]
  },
  {
   "cell_type": "code",
   "execution_count": 106,
   "id": "7703399b",
   "metadata": {},
   "outputs": [],
   "source": [
    "import pandas as pd\n",
    "df = pd.read_csv('Datasets/ET_News/economic_times_headlines_2024.csv ')"
   ]
  },
  {
   "cell_type": "code",
   "execution_count": 107,
   "id": "938e3b1e",
   "metadata": {},
   "outputs": [],
   "source": [
    "df = df.drop(columns= {'Archive','Headline link'})"
   ]
  },
  {
   "cell_type": "code",
   "execution_count": 108,
   "id": "a982d5d5",
   "metadata": {},
   "outputs": [
    {
     "data": {
      "text/html": [
       "<div>\n",
       "<style scoped>\n",
       "    .dataframe tbody tr th:only-of-type {\n",
       "        vertical-align: middle;\n",
       "    }\n",
       "\n",
       "    .dataframe tbody tr th {\n",
       "        vertical-align: top;\n",
       "    }\n",
       "\n",
       "    .dataframe thead th {\n",
       "        text-align: right;\n",
       "    }\n",
       "</style>\n",
       "<table border=\"1\" class=\"dataframe\">\n",
       "  <thead>\n",
       "    <tr style=\"text-align: right;\">\n",
       "      <th></th>\n",
       "      <th>Date</th>\n",
       "      <th>Headline</th>\n",
       "    </tr>\n",
       "  </thead>\n",
       "  <tbody>\n",
       "    <tr>\n",
       "      <th>0</th>\n",
       "      <td>01-01-2024</td>\n",
       "      <td>Disney Marathon: How to register and qualify? ...</td>\n",
       "    </tr>\n",
       "    <tr>\n",
       "      <th>1</th>\n",
       "      <td>01-01-2024</td>\n",
       "      <td>Bharti Airtel Services to acquire 97.1% stake ...</td>\n",
       "    </tr>\n",
       "    <tr>\n",
       "      <th>2</th>\n",
       "      <td>01-01-2024</td>\n",
       "      <td>Fallout 76 Nuke Codes &amp; Launch Site Locations:...</td>\n",
       "    </tr>\n",
       "    <tr>\n",
       "      <th>3</th>\n",
       "      <td>01-01-2024</td>\n",
       "      <td>Is retirement on your list in 2024? Here are d...</td>\n",
       "    </tr>\n",
       "    <tr>\n",
       "      <th>4</th>\n",
       "      <td>01-01-2024</td>\n",
       "      <td>Raise a glass to GIFT City: Why the recent ame...</td>\n",
       "    </tr>\n",
       "  </tbody>\n",
       "</table>\n",
       "</div>"
      ],
      "text/plain": [
       "         Date                                           Headline\n",
       "0  01-01-2024  Disney Marathon: How to register and qualify? ...\n",
       "1  01-01-2024  Bharti Airtel Services to acquire 97.1% stake ...\n",
       "2  01-01-2024  Fallout 76 Nuke Codes & Launch Site Locations:...\n",
       "3  01-01-2024  Is retirement on your list in 2024? Here are d...\n",
       "4  01-01-2024  Raise a glass to GIFT City: Why the recent ame..."
      ]
     },
     "execution_count": 108,
     "metadata": {},
     "output_type": "execute_result"
    }
   ],
   "source": [
    "df.head()"
   ]
  },
  {
   "cell_type": "code",
   "execution_count": 109,
   "id": "35ae7898",
   "metadata": {},
   "outputs": [],
   "source": [
    "df = df.drop_duplicates()"
   ]
  },
  {
   "cell_type": "code",
   "execution_count": 110,
   "id": "7b3fa67a",
   "metadata": {},
   "outputs": [],
   "source": [
    "import re\n",
    "\n",
    "keywords = ['car', 'cars', 'tata motors', 'tata', 'jlr', 'jaguar', 'Land Rover', 'ev']\n",
    "\n",
    "pattern = r'\\b(?:' + '|'.join(re.escape(k.lower()) for k in keywords) + r')\\b'\n",
    "\n",
    "cols = ['Headline']  # columns we need to filter\n",
    "mask = df[cols].apply(lambda col: col.str.lower().str.contains(pattern, regex=True))\n",
    "df24 = df[mask.any(axis=1)]\n"
   ]
  },
  {
   "cell_type": "code",
   "execution_count": 111,
   "id": "4e014790",
   "metadata": {},
   "outputs": [
    {
     "data": {
      "text/plain": [
       "Date        Headline                                                                                                           \n",
       "29-08-2024  Veera Mahasamrat EV: Veera Vahana, Exponent Energy announce the 'World's first 15-minute charging intercity bus'       1\n",
       "01-01-2024  Assam CM says Tata Electronics to hire 1K Science graduates for semicon plant; state targets 10 lakh cr GDP by 2026    1\n",
       "            Big movers on D-Street: What should investors do with Tata Consumer, Tata Motors and Olectra?                          1\n",
       "            Cheap Chinese EV resembling Toyota Land Cruiser LC300 goes viral                                                       1\n",
       "            India's steel sector still in recovery mode post Covid pandemic: Tata Steel CEO and MD T V Narendran                   1\n",
       "                                                                                                                                  ..\n",
       "01-03-2024  Car tyres punctured: BRS MPs move out to BJP and Congress                                                              1\n",
       "01-02-2024  budget 2024 electric vehicle push: Budget 2024: Push for EV charging infrastructure brings cheer                       1\n",
       "            Tata Motors total vehicle sales climb to 86,125 units in January                                                       1\n",
       "            Tata Motors Q3 Result Preview: Consolidated PAT may surge 55% YoY on upbeat all-round show                             1\n",
       "            Ola's Bhavish Aggarwal has some big announcements for Friday. Here's what the EV co may announce                       1\n",
       "Name: count, Length: 1803, dtype: int64"
      ]
     },
     "execution_count": 111,
     "metadata": {},
     "output_type": "execute_result"
    }
   ],
   "source": [
    "df24.value_counts()"
   ]
  },
  {
   "cell_type": "code",
   "execution_count": 112,
   "id": "83d77306",
   "metadata": {},
   "outputs": [],
   "source": [
    "df24 = df24.reset_index(drop=True)"
   ]
  },
  {
   "cell_type": "code",
   "execution_count": 113,
   "id": "a39ae5bd",
   "metadata": {},
   "outputs": [
    {
     "data": {
      "text/html": [
       "<div>\n",
       "<style scoped>\n",
       "    .dataframe tbody tr th:only-of-type {\n",
       "        vertical-align: middle;\n",
       "    }\n",
       "\n",
       "    .dataframe tbody tr th {\n",
       "        vertical-align: top;\n",
       "    }\n",
       "\n",
       "    .dataframe thead th {\n",
       "        text-align: right;\n",
       "    }\n",
       "</style>\n",
       "<table border=\"1\" class=\"dataframe\">\n",
       "  <thead>\n",
       "    <tr style=\"text-align: right;\">\n",
       "      <th></th>\n",
       "      <th>Date</th>\n",
       "      <th>Headline</th>\n",
       "    </tr>\n",
       "  </thead>\n",
       "  <tbody>\n",
       "    <tr>\n",
       "      <th>0</th>\n",
       "      <td>01-01-2024</td>\n",
       "      <td>Successfully met this winter's record peak pow...</td>\n",
       "    </tr>\n",
       "    <tr>\n",
       "      <th>1</th>\n",
       "      <td>01-01-2024</td>\n",
       "      <td>Assam CM says Tata Electronics to hire 1K Scie...</td>\n",
       "    </tr>\n",
       "    <tr>\n",
       "      <th>2</th>\n",
       "      <td>01-01-2024</td>\n",
       "      <td>Tata Motors total domestic sales up 4 pc to 76...</td>\n",
       "    </tr>\n",
       "    <tr>\n",
       "      <th>3</th>\n",
       "      <td>01-01-2024</td>\n",
       "      <td>India's steel sector still in recovery mode po...</td>\n",
       "    </tr>\n",
       "    <tr>\n",
       "      <th>4</th>\n",
       "      <td>01-01-2024</td>\n",
       "      <td>Big movers on D-Street: What should investors ...</td>\n",
       "    </tr>\n",
       "    <tr>\n",
       "      <th>...</th>\n",
       "      <td>...</td>\n",
       "      <td>...</td>\n",
       "    </tr>\n",
       "    <tr>\n",
       "      <th>1798</th>\n",
       "      <td>10-12-2024</td>\n",
       "      <td>Biggest, fastest and most consistent: Adani En...</td>\n",
       "    </tr>\n",
       "    <tr>\n",
       "      <th>1799</th>\n",
       "      <td>10-12-2024</td>\n",
       "      <td>Xiaomi says it has no plan to launch its elect...</td>\n",
       "    </tr>\n",
       "    <tr>\n",
       "      <th>1800</th>\n",
       "      <td>10-12-2024</td>\n",
       "      <td>Buy Tata Power, target price Rs 509:  Motilal ...</td>\n",
       "    </tr>\n",
       "    <tr>\n",
       "      <th>1801</th>\n",
       "      <td>10-12-2024</td>\n",
       "      <td>Tata Motors shares in spotlight as carmaker to...</td>\n",
       "    </tr>\n",
       "    <tr>\n",
       "      <th>1802</th>\n",
       "      <td>10-12-2024</td>\n",
       "      <td>Stocks in news: Vodafone Idea, Tata Motors, NH...</td>\n",
       "    </tr>\n",
       "  </tbody>\n",
       "</table>\n",
       "<p>1803 rows × 2 columns</p>\n",
       "</div>"
      ],
      "text/plain": [
       "            Date                                           Headline\n",
       "0     01-01-2024  Successfully met this winter's record peak pow...\n",
       "1     01-01-2024  Assam CM says Tata Electronics to hire 1K Scie...\n",
       "2     01-01-2024  Tata Motors total domestic sales up 4 pc to 76...\n",
       "3     01-01-2024  India's steel sector still in recovery mode po...\n",
       "4     01-01-2024  Big movers on D-Street: What should investors ...\n",
       "...          ...                                                ...\n",
       "1798  10-12-2024  Biggest, fastest and most consistent: Adani En...\n",
       "1799  10-12-2024  Xiaomi says it has no plan to launch its elect...\n",
       "1800  10-12-2024  Buy Tata Power, target price Rs 509:  Motilal ...\n",
       "1801  10-12-2024  Tata Motors shares in spotlight as carmaker to...\n",
       "1802  10-12-2024  Stocks in news: Vodafone Idea, Tata Motors, NH...\n",
       "\n",
       "[1803 rows x 2 columns]"
      ]
     },
     "execution_count": 113,
     "metadata": {},
     "output_type": "execute_result"
    }
   ],
   "source": [
    "df24"
   ]
  },
  {
   "cell_type": "code",
   "execution_count": null,
   "id": "094fdc4d",
   "metadata": {},
   "outputs": [],
   "source": [
    "df24.to_csv('2024_news_cleaned.csv', index= False)"
   ]
  },
  {
   "cell_type": "markdown",
   "id": "bb29f9c5",
   "metadata": {},
   "source": [
    "For 2025-----------------------------------------------------------------------------------------------------------"
   ]
  },
  {
   "cell_type": "code",
   "execution_count": 124,
   "id": "c89a60f8",
   "metadata": {},
   "outputs": [],
   "source": [
    "import pandas as pd\n",
    "df = pd.read_csv('Datasets/ET_News/economic_times_headlines_2025.csv ')"
   ]
  },
  {
   "cell_type": "code",
   "execution_count": 125,
   "id": "269ac9a8",
   "metadata": {},
   "outputs": [],
   "source": [
    "df = df.drop_duplicates()"
   ]
  },
  {
   "cell_type": "code",
   "execution_count": 126,
   "id": "7004d591",
   "metadata": {},
   "outputs": [],
   "source": [
    "df = df.drop(columns={'Archive', 'Headline link' })"
   ]
  },
  {
   "cell_type": "code",
   "execution_count": 127,
   "id": "5493de31",
   "metadata": {},
   "outputs": [],
   "source": [
    "import re\n",
    "\n",
    "keywords = ['car', 'cars', 'tata motors', 'tata', 'jlr', 'jaguar', 'Land Rover', 'ev']\n",
    "\n",
    "pattern = r'\\b(?:' + '|'.join(re.escape(k.lower()) for k in keywords) + r')\\b'\n",
    "\n",
    "cols = ['Headline']  # columns we need to filter\n",
    "mask = df[cols].apply(lambda col: col.str.lower().str.contains(pattern, regex=True))\n",
    "df25 = df[mask.any(axis=1)]"
   ]
  },
  {
   "cell_type": "code",
   "execution_count": 129,
   "id": "f1a5b953",
   "metadata": {},
   "outputs": [],
   "source": [
    "df25 = df25.reset_index(drop=True)"
   ]
  },
  {
   "cell_type": "code",
   "execution_count": null,
   "metadata": {},
   "outputs": [],
   "source": [
    "df25.to_csv('2025_news_cleaned.csv', index = False)"
   ]
  },
  {
   "cell_type": "markdown",
   "id": "2aae956f",
   "metadata": {},
   "source": [
    "For 2023------------------------------------------------------------------------------------------------------------"
   ]
  },
  {
   "cell_type": "code",
   "execution_count": 131,
   "id": "ca9af62b",
   "metadata": {},
   "outputs": [],
   "source": [
    "import pandas as pd\n",
    "df = pd.read_csv('Datasets/ET_News/economic_times_headlines_2023.csv')"
   ]
  },
  {
   "cell_type": "code",
   "execution_count": 133,
   "id": "5418f094",
   "metadata": {},
   "outputs": [],
   "source": [
    "df= df.drop_duplicates()"
   ]
  },
  {
   "cell_type": "code",
   "execution_count": 135,
   "id": "f542e0a0",
   "metadata": {},
   "outputs": [],
   "source": [
    "df = df.drop(columns={'Archive', 'Headline link' })"
   ]
  },
  {
   "cell_type": "code",
   "execution_count": 139,
   "id": "760cccdb",
   "metadata": {},
   "outputs": [],
   "source": [
    "import re\n",
    "\n",
    "keywords = ['car', 'cars', 'tata motors', 'tata', 'jlr', 'jaguar', 'Land Rover', 'ev']\n",
    "\n",
    "pattern = r'\\b(?:' + '|'.join(re.escape(k.lower()) for k in keywords) + r')\\b'\n",
    "\n",
    "cols = ['Headline']  # columns we need to filter\n",
    "mask = df[cols].apply(lambda col: col.str.lower().str.contains(pattern, regex=True))\n",
    "df23 = df[mask.any(axis=1)]\n"
   ]
  },
  {
   "cell_type": "code",
   "execution_count": 141,
   "id": "5cd86cb9",
   "metadata": {},
   "outputs": [
    {
     "data": {
      "text/html": [
       "<div>\n",
       "<style scoped>\n",
       "    .dataframe tbody tr th:only-of-type {\n",
       "        vertical-align: middle;\n",
       "    }\n",
       "\n",
       "    .dataframe tbody tr th {\n",
       "        vertical-align: top;\n",
       "    }\n",
       "\n",
       "    .dataframe thead th {\n",
       "        text-align: right;\n",
       "    }\n",
       "</style>\n",
       "<table border=\"1\" class=\"dataframe\">\n",
       "  <thead>\n",
       "    <tr style=\"text-align: right;\">\n",
       "      <th></th>\n",
       "      <th>Date</th>\n",
       "      <th>Headline</th>\n",
       "    </tr>\n",
       "  </thead>\n",
       "  <tbody>\n",
       "    <tr>\n",
       "      <th>0</th>\n",
       "      <td>01-01-2023</td>\n",
       "      <td>Tata Motors reports 10 pc increase in total do...</td>\n",
       "    </tr>\n",
       "    <tr>\n",
       "      <th>1</th>\n",
       "      <td>01-01-2023</td>\n",
       "      <td>Lens on EV makers' claim to FAME subsidy: Test...</td>\n",
       "    </tr>\n",
       "    <tr>\n",
       "      <th>2</th>\n",
       "      <td>02-01-2023</td>\n",
       "      <td>Woman dragged under car for 12 km, police add ...</td>\n",
       "    </tr>\n",
       "    <tr>\n",
       "      <th>3</th>\n",
       "      <td>02-01-2023</td>\n",
       "      <td>december auto sales fall below expectations ev...</td>\n",
       "    </tr>\n",
       "    <tr>\n",
       "      <th>4</th>\n",
       "      <td>02-01-2023</td>\n",
       "      <td>tata motors maruti suzuki eicher motors among ...</td>\n",
       "    </tr>\n",
       "    <tr>\n",
       "      <th>...</th>\n",
       "      <td>...</td>\n",
       "      <td>...</td>\n",
       "    </tr>\n",
       "    <tr>\n",
       "      <th>2046</th>\n",
       "      <td>29-12-2023</td>\n",
       "      <td>Tata Motors shares jump 6% to double money in ...</td>\n",
       "    </tr>\n",
       "    <tr>\n",
       "      <th>2047</th>\n",
       "      <td>29-12-2023</td>\n",
       "      <td>Ratan Tata to sell all his 77,900 shares in Fi...</td>\n",
       "    </tr>\n",
       "    <tr>\n",
       "      <th>2048</th>\n",
       "      <td>29-12-2023</td>\n",
       "      <td>Radhakishan Damani portfolio: Tata stock only ...</td>\n",
       "    </tr>\n",
       "    <tr>\n",
       "      <th>2049</th>\n",
       "      <td>29-12-2023</td>\n",
       "      <td>Stocks in news: PNB, Tata Steel, Aarti Drugs, ...</td>\n",
       "    </tr>\n",
       "    <tr>\n",
       "      <th>2050</th>\n",
       "      <td>29-12-2023</td>\n",
       "      <td>Tata Consumer becomes 6th Tata stock to hit Rs...</td>\n",
       "    </tr>\n",
       "  </tbody>\n",
       "</table>\n",
       "<p>2051 rows × 2 columns</p>\n",
       "</div>"
      ],
      "text/plain": [
       "            Date                                           Headline\n",
       "0     01-01-2023  Tata Motors reports 10 pc increase in total do...\n",
       "1     01-01-2023  Lens on EV makers' claim to FAME subsidy: Test...\n",
       "2     02-01-2023  Woman dragged under car for 12 km, police add ...\n",
       "3     02-01-2023  december auto sales fall below expectations ev...\n",
       "4     02-01-2023  tata motors maruti suzuki eicher motors among ...\n",
       "...          ...                                                ...\n",
       "2046  29-12-2023  Tata Motors shares jump 6% to double money in ...\n",
       "2047  29-12-2023  Ratan Tata to sell all his 77,900 shares in Fi...\n",
       "2048  29-12-2023  Radhakishan Damani portfolio: Tata stock only ...\n",
       "2049  29-12-2023  Stocks in news: PNB, Tata Steel, Aarti Drugs, ...\n",
       "2050  29-12-2023  Tata Consumer becomes 6th Tata stock to hit Rs...\n",
       "\n",
       "[2051 rows x 2 columns]"
      ]
     },
     "execution_count": 141,
     "metadata": {},
     "output_type": "execute_result"
    }
   ],
   "source": [
    "df23.reset_index(drop= True)"
   ]
  },
  {
   "cell_type": "code",
   "execution_count": 142,
   "id": "be3399d0",
   "metadata": {},
   "outputs": [],
   "source": [
    "df23.to_csv('2023_news_cleaned.csv', index = False)"
   ]
  },
  {
   "cell_type": "markdown",
   "id": "d5923bc6",
   "metadata": {},
   "source": [
    "For 2022-------------------------------------------------------------------------------------------------------"
   ]
  },
  {
   "cell_type": "code",
   "execution_count": 143,
   "id": "6073420c",
   "metadata": {},
   "outputs": [],
   "source": [
    "import pandas as pd\n",
    "df = pd.read_csv('Datasets/ET_News/economic_times_headlines_2022.csv')"
   ]
  },
  {
   "cell_type": "code",
   "execution_count": 149,
   "id": "cf678c9c",
   "metadata": {},
   "outputs": [],
   "source": [
    "df = df.drop_duplicates()"
   ]
  },
  {
   "cell_type": "code",
   "execution_count": 150,
   "id": "2cf6529e",
   "metadata": {},
   "outputs": [],
   "source": [
    "df = df.drop(columns={'Headline link', 'Archive'})"
   ]
  },
  {
   "cell_type": "code",
   "execution_count": 151,
   "id": "5794b573",
   "metadata": {},
   "outputs": [
    {
     "data": {
      "text/html": [
       "<div>\n",
       "<style scoped>\n",
       "    .dataframe tbody tr th:only-of-type {\n",
       "        vertical-align: middle;\n",
       "    }\n",
       "\n",
       "    .dataframe tbody tr th {\n",
       "        vertical-align: top;\n",
       "    }\n",
       "\n",
       "    .dataframe thead th {\n",
       "        text-align: right;\n",
       "    }\n",
       "</style>\n",
       "<table border=\"1\" class=\"dataframe\">\n",
       "  <thead>\n",
       "    <tr style=\"text-align: right;\">\n",
       "      <th></th>\n",
       "      <th>Date</th>\n",
       "      <th>Headline</th>\n",
       "    </tr>\n",
       "  </thead>\n",
       "  <tbody>\n",
       "    <tr>\n",
       "      <th>0</th>\n",
       "      <td>01-01-2022</td>\n",
       "      <td>Assam targeting to become six lakh crore GDP s...</td>\n",
       "    </tr>\n",
       "    <tr>\n",
       "      <th>1</th>\n",
       "      <td>01-01-2022</td>\n",
       "      <td>In Manipur BJP will form a government on its o...</td>\n",
       "    </tr>\n",
       "    <tr>\n",
       "      <th>2</th>\n",
       "      <td>01-01-2022</td>\n",
       "      <td>There will be rationalization of the Armed For...</td>\n",
       "    </tr>\n",
       "    <tr>\n",
       "      <th>3</th>\n",
       "      <td>01-01-2022</td>\n",
       "      <td>Media companies will have to create content fo...</td>\n",
       "    </tr>\n",
       "    <tr>\n",
       "      <th>4</th>\n",
       "      <td>01-01-2022</td>\n",
       "      <td>How we interact with sporting events might cha...</td>\n",
       "    </tr>\n",
       "    <tr>\n",
       "      <th>...</th>\n",
       "      <td>...</td>\n",
       "      <td>...</td>\n",
       "    </tr>\n",
       "    <tr>\n",
       "      <th>108594</th>\n",
       "      <td>29-12-2022</td>\n",
       "      <td>India vs Sri Lanka Schedule 2023: Match date &amp;...</td>\n",
       "    </tr>\n",
       "    <tr>\n",
       "      <th>108595</th>\n",
       "      <td>29-12-2022</td>\n",
       "      <td>Government closely monitoring exports of produ...</td>\n",
       "    </tr>\n",
       "    <tr>\n",
       "      <th>108596</th>\n",
       "      <td>29-12-2022</td>\n",
       "      <td>Clarity, caution and conviction will drive sta...</td>\n",
       "    </tr>\n",
       "    <tr>\n",
       "      <th>108597</th>\n",
       "      <td>29-12-2022</td>\n",
       "      <td>NCP rolls out red carpet as Anil Deshmukh walk...</td>\n",
       "    </tr>\n",
       "    <tr>\n",
       "      <th>108598</th>\n",
       "      <td>29-12-2022</td>\n",
       "      <td>Buy Cholamandalam Investment &amp; Finance Company...</td>\n",
       "    </tr>\n",
       "  </tbody>\n",
       "</table>\n",
       "<p>108599 rows × 2 columns</p>\n",
       "</div>"
      ],
      "text/plain": [
       "              Date                                           Headline\n",
       "0       01-01-2022  Assam targeting to become six lakh crore GDP s...\n",
       "1       01-01-2022  In Manipur BJP will form a government on its o...\n",
       "2       01-01-2022  There will be rationalization of the Armed For...\n",
       "3       01-01-2022  Media companies will have to create content fo...\n",
       "4       01-01-2022  How we interact with sporting events might cha...\n",
       "...            ...                                                ...\n",
       "108594  29-12-2022  India vs Sri Lanka Schedule 2023: Match date &...\n",
       "108595  29-12-2022  Government closely monitoring exports of produ...\n",
       "108596  29-12-2022  Clarity, caution and conviction will drive sta...\n",
       "108597  29-12-2022  NCP rolls out red carpet as Anil Deshmukh walk...\n",
       "108598  29-12-2022  Buy Cholamandalam Investment & Finance Company...\n",
       "\n",
       "[108599 rows x 2 columns]"
      ]
     },
     "execution_count": 151,
     "metadata": {},
     "output_type": "execute_result"
    }
   ],
   "source": [
    "df"
   ]
  },
  {
   "cell_type": "code",
   "execution_count": 152,
   "id": "b580b55b",
   "metadata": {},
   "outputs": [],
   "source": [
    "import re\n",
    "\n",
    "keywords = ['car', 'cars', 'tata motors', 'tata', 'jlr', 'jaguar', 'Land Rover', 'ev']\n",
    "\n",
    "pattern = r'\\b(?:' + '|'.join(re.escape(k.lower()) for k in keywords) + r')\\b'\n",
    "\n",
    "cols = ['Headline']  # columns we need to filter\n",
    "mask = df[cols].apply(lambda col: col.str.lower().str.contains(pattern, regex=True))\n",
    "df22 = df[mask.any(axis=1)]"
   ]
  },
  {
   "cell_type": "code",
   "execution_count": 155,
   "id": "33a3ec43",
   "metadata": {},
   "outputs": [
    {
     "data": {
      "text/html": [
       "<div>\n",
       "<style scoped>\n",
       "    .dataframe tbody tr th:only-of-type {\n",
       "        vertical-align: middle;\n",
       "    }\n",
       "\n",
       "    .dataframe tbody tr th {\n",
       "        vertical-align: top;\n",
       "    }\n",
       "\n",
       "    .dataframe thead th {\n",
       "        text-align: right;\n",
       "    }\n",
       "</style>\n",
       "<table border=\"1\" class=\"dataframe\">\n",
       "  <thead>\n",
       "    <tr style=\"text-align: right;\">\n",
       "      <th></th>\n",
       "      <th>Date</th>\n",
       "      <th>Headline</th>\n",
       "    </tr>\n",
       "  </thead>\n",
       "  <tbody>\n",
       "    <tr>\n",
       "      <th>0</th>\n",
       "      <td>01-01-2022</td>\n",
       "      <td>Tata Motors overtakes Hyundai to grab the numb...</td>\n",
       "    </tr>\n",
       "    <tr>\n",
       "      <th>1</th>\n",
       "      <td>01-01-2022</td>\n",
       "      <td>Honda Cars reports 26 pc jump in wholesales fo...</td>\n",
       "    </tr>\n",
       "    <tr>\n",
       "      <th>2</th>\n",
       "      <td>01-01-2022</td>\n",
       "      <td>Tata Motors reports 50 pc jump in PV sales to ...</td>\n",
       "    </tr>\n",
       "    <tr>\n",
       "      <th>3</th>\n",
       "      <td>02-01-2022</td>\n",
       "      <td>PM Modi can't claim to be 'fakir' after adding...</td>\n",
       "    </tr>\n",
       "    <tr>\n",
       "      <th>4</th>\n",
       "      <td>02-01-2022</td>\n",
       "      <td>Going electric: Is the EV two-wheeler buzz rea...</td>\n",
       "    </tr>\n",
       "    <tr>\n",
       "      <th>...</th>\n",
       "      <td>...</td>\n",
       "      <td>...</td>\n",
       "    </tr>\n",
       "    <tr>\n",
       "      <th>2021</th>\n",
       "      <td>29-12-2022</td>\n",
       "      <td>Tata Power raises Rs 1,000 crore through bonds</td>\n",
       "    </tr>\n",
       "    <tr>\n",
       "      <th>2022</th>\n",
       "      <td>29-12-2022</td>\n",
       "      <td>Tata Consumer Products Ltd acquires 23 per cen...</td>\n",
       "    </tr>\n",
       "    <tr>\n",
       "      <th>2023</th>\n",
       "      <td>29-12-2022</td>\n",
       "      <td>Tata Sons chairman N Chandrasekaran to head Ma...</td>\n",
       "    </tr>\n",
       "    <tr>\n",
       "      <th>2024</th>\n",
       "      <td>29-12-2022</td>\n",
       "      <td>Arjun Deshpande: The man who wants “Bharat Rat...</td>\n",
       "    </tr>\n",
       "    <tr>\n",
       "      <th>2025</th>\n",
       "      <td>29-12-2022</td>\n",
       "      <td>Stocks in news: KFin Tech, SBI, Tata Power, Gu...</td>\n",
       "    </tr>\n",
       "  </tbody>\n",
       "</table>\n",
       "<p>2026 rows × 2 columns</p>\n",
       "</div>"
      ],
      "text/plain": [
       "            Date                                           Headline\n",
       "0     01-01-2022  Tata Motors overtakes Hyundai to grab the numb...\n",
       "1     01-01-2022  Honda Cars reports 26 pc jump in wholesales fo...\n",
       "2     01-01-2022  Tata Motors reports 50 pc jump in PV sales to ...\n",
       "3     02-01-2022  PM Modi can't claim to be 'fakir' after adding...\n",
       "4     02-01-2022  Going electric: Is the EV two-wheeler buzz rea...\n",
       "...          ...                                                ...\n",
       "2021  29-12-2022     Tata Power raises Rs 1,000 crore through bonds\n",
       "2022  29-12-2022  Tata Consumer Products Ltd acquires 23 per cen...\n",
       "2023  29-12-2022  Tata Sons chairman N Chandrasekaran to head Ma...\n",
       "2024  29-12-2022  Arjun Deshpande: The man who wants “Bharat Rat...\n",
       "2025  29-12-2022  Stocks in news: KFin Tech, SBI, Tata Power, Gu...\n",
       "\n",
       "[2026 rows x 2 columns]"
      ]
     },
     "execution_count": 155,
     "metadata": {},
     "output_type": "execute_result"
    }
   ],
   "source": [
    "df22.reset_index(drop = True)"
   ]
  },
  {
   "cell_type": "code",
   "execution_count": 156,
   "id": "905bb8bc",
   "metadata": {},
   "outputs": [],
   "source": [
    "df22.to_csv('2022_news_cleaned.csv', index = False)"
   ]
  },
  {
   "cell_type": "code",
   "execution_count": null,
   "id": "882a750c",
   "metadata": {},
   "outputs": [],
   "source": []
  }
 ],
 "metadata": {
  "kernelspec": {
   "display_name": "Python 3",
   "language": "python",
   "name": "python3"
  },
  "language_info": {
   "codemirror_mode": {
    "name": "ipython",
    "version": 3
   },
   "file_extension": ".py",
   "mimetype": "text/x-python",
   "name": "python",
   "nbconvert_exporter": "python",
   "pygments_lexer": "ipython3",
   "version": "3.13.5"
  }
 },
 "nbformat": 4,
 "nbformat_minor": 5
}
