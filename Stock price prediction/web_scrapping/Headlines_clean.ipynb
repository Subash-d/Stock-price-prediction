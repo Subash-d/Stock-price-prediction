{
 "cells": [
  {
   "cell_type": "code",
   "execution_count": 2,
   "id": "d616de7c",
   "metadata": {},
   "outputs": [],
   "source": [
    "import pandas as pd\n",
    "df = pd.read_csv('Datasets/headlines.csv')"
   ]
  },
  {
   "cell_type": "code",
   "execution_count": 3,
   "id": "8aee9984",
   "metadata": {},
   "outputs": [
    {
     "data": {
      "text/html": [
       "<div>\n",
       "<style scoped>\n",
       "    .dataframe tbody tr th:only-of-type {\n",
       "        vertical-align: middle;\n",
       "    }\n",
       "\n",
       "    .dataframe tbody tr th {\n",
       "        vertical-align: top;\n",
       "    }\n",
       "\n",
       "    .dataframe thead th {\n",
       "        text-align: right;\n",
       "    }\n",
       "</style>\n",
       "<table border=\"1\" class=\"dataframe\">\n",
       "  <thead>\n",
       "    <tr style=\"text-align: right;\">\n",
       "      <th></th>\n",
       "      <th>Date</th>\n",
       "      <th>Title</th>\n",
       "    </tr>\n",
       "  </thead>\n",
       "  <tbody>\n",
       "    <tr>\n",
       "      <th>0</th>\n",
       "      <td>18 Jul 2025</td>\n",
       "      <td>Tata Group stocks: Tata Steel vs Trent vs Tita...</td>\n",
       "    </tr>\n",
       "    <tr>\n",
       "      <th>1</th>\n",
       "      <td>18 Jul 2025</td>\n",
       "      <td>Tata Motors approaches Italy's Agnelli family ...</td>\n",
       "    </tr>\n",
       "    <tr>\n",
       "      <th>2</th>\n",
       "      <td>18 Jul 2025</td>\n",
       "      <td>Tata Motors-owned JLR delays launch of Range R...</td>\n",
       "    </tr>\n",
       "    <tr>\n",
       "      <th>3</th>\n",
       "      <td>18 Jul 2025</td>\n",
       "      <td>Iveco Is Said to Draw Takeover Interest From I...</td>\n",
       "    </tr>\n",
       "    <tr>\n",
       "      <th>4</th>\n",
       "      <td>17 Jul 2025</td>\n",
       "      <td>Tata Punch Crosses 6 Lakh Sales Milestone In U...</td>\n",
       "    </tr>\n",
       "    <tr>\n",
       "      <th>...</th>\n",
       "      <td>...</td>\n",
       "      <td>...</td>\n",
       "    </tr>\n",
       "    <tr>\n",
       "      <th>2957</th>\n",
       "      <td>14 May 2025</td>\n",
       "      <td>Tata Motors shares fall 3% after Q4 profits sl...</td>\n",
       "    </tr>\n",
       "    <tr>\n",
       "      <th>2958</th>\n",
       "      <td>13 May 2025</td>\n",
       "      <td>Tata Motors Q4 net profit falls 51% to Rs 8,55...</td>\n",
       "    </tr>\n",
       "    <tr>\n",
       "      <th>2959</th>\n",
       "      <td>23 Feb 2023</td>\n",
       "      <td>Tata Motors to raise $1 billion via stake sale...</td>\n",
       "    </tr>\n",
       "    <tr>\n",
       "      <th>2960</th>\n",
       "      <td>01 Apr 2021</td>\n",
       "      <td>Tata Motors back to 3rd spot after 9 years: 69...</td>\n",
       "    </tr>\n",
       "    <tr>\n",
       "      <th>2961</th>\n",
       "      <td>25 Jan 2020</td>\n",
       "      <td>Tata Motors eyes leadership position in electr...</td>\n",
       "    </tr>\n",
       "  </tbody>\n",
       "</table>\n",
       "<p>203 rows × 2 columns</p>\n",
       "</div>"
      ],
      "text/plain": [
       "             Date                                              Title\n",
       "0     18 Jul 2025  Tata Group stocks: Tata Steel vs Trent vs Tita...\n",
       "1     18 Jul 2025  Tata Motors approaches Italy's Agnelli family ...\n",
       "2     18 Jul 2025  Tata Motors-owned JLR delays launch of Range R...\n",
       "3     18 Jul 2025  Iveco Is Said to Draw Takeover Interest From I...\n",
       "4     17 Jul 2025  Tata Punch Crosses 6 Lakh Sales Milestone In U...\n",
       "...           ...                                                ...\n",
       "2957  14 May 2025  Tata Motors shares fall 3% after Q4 profits sl...\n",
       "2958  13 May 2025  Tata Motors Q4 net profit falls 51% to Rs 8,55...\n",
       "2959  23 Feb 2023  Tata Motors to raise $1 billion via stake sale...\n",
       "2960  01 Apr 2021  Tata Motors back to 3rd spot after 9 years: 69...\n",
       "2961  25 Jan 2020  Tata Motors eyes leadership position in electr...\n",
       "\n",
       "[203 rows x 2 columns]"
      ]
     },
     "execution_count": 3,
     "metadata": {},
     "output_type": "execute_result"
    }
   ],
   "source": [
    "df.drop_duplicates()"
   ]
  },
  {
   "cell_type": "code",
   "execution_count": null,
   "id": "eeb34993",
   "metadata": {},
   "outputs": [],
   "source": []
  }
 ],
 "metadata": {
  "kernelspec": {
   "display_name": "Python 3",
   "language": "python",
   "name": "python3"
  },
  "language_info": {
   "codemirror_mode": {
    "name": "ipython",
    "version": 3
   },
   "file_extension": ".py",
   "mimetype": "text/x-python",
   "name": "python",
   "nbconvert_exporter": "python",
   "pygments_lexer": "ipython3",
   "version": "3.13.5"
  }
 },
 "nbformat": 4,
 "nbformat_minor": 5
}
