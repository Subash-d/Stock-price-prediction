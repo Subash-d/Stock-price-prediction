{
 "cells": [
  {
   "cell_type": "code",
   "execution_count": 6,
   "id": "142daaf0",
   "metadata": {},
   "outputs": [],
   "source": [
    "import feedparser\n",
    "import pandas as pd\n",
    "\n",
    "def get_bing_news(query, pages=30):\n",
    "    news_items = []\n",
    "    for page in range(1, pages + 1):\n",
    "        url = f\"https://www.bing.com/news/search?q={query.replace(' ', '+')}&format=rss&first={page*10}\"\n",
    "        feed = feedparser.parse(url)\n",
    "        \n",
    "        for entry in feed.entries:\n",
    "            news_items.append({\n",
    "                'Date': entry.published,\n",
    "                'Title': entry.title\n",
    "            })\n",
    "    return pd.DataFrame(news_items)\n",
    "\n",
    "\n"
   ]
  },
  {
   "cell_type": "code",
   "execution_count": 8,
   "id": "f61b77dd",
   "metadata": {},
   "outputs": [
    {
     "data": {
      "text/html": [
       "<div>\n",
       "<style scoped>\n",
       "    .dataframe tbody tr th:only-of-type {\n",
       "        vertical-align: middle;\n",
       "    }\n",
       "\n",
       "    .dataframe tbody tr th {\n",
       "        vertical-align: top;\n",
       "    }\n",
       "\n",
       "    .dataframe thead th {\n",
       "        text-align: right;\n",
       "    }\n",
       "</style>\n",
       "<table border=\"1\" class=\"dataframe\">\n",
       "  <thead>\n",
       "    <tr style=\"text-align: right;\">\n",
       "      <th></th>\n",
       "      <th>Date</th>\n",
       "      <th>Title</th>\n",
       "    </tr>\n",
       "  </thead>\n",
       "  <tbody>\n",
       "    <tr>\n",
       "      <th>0</th>\n",
       "      <td>Mon, 21 Jul 2025 06:00:00 GMT</td>\n",
       "      <td>Tata Motors Share Price Live Updates: Tata Mot...</td>\n",
       "    </tr>\n",
       "    <tr>\n",
       "      <th>1</th>\n",
       "      <td>Wed, 23 Jul 2025 01:34:00 GMT</td>\n",
       "      <td>Stock Market Live: Nifty Above 25,100, Sensex ...</td>\n",
       "    </tr>\n",
       "    <tr>\n",
       "      <th>2</th>\n",
       "      <td>Mon, 21 Jul 2025 04:52:00 GMT</td>\n",
       "      <td>Top Stock Picks This Week: Vishal Mega Mart, S...</td>\n",
       "    </tr>\n",
       "    <tr>\n",
       "      <th>3</th>\n",
       "      <td>Tue, 22 Jul 2025 03:54:00 GMT</td>\n",
       "      <td>Eternal share price rise: Zomato &amp; Blinkit par...</td>\n",
       "    </tr>\n",
       "    <tr>\n",
       "      <th>4</th>\n",
       "      <td>Tue, 22 Jul 2025 00:00:00 GMT</td>\n",
       "      <td>Tata Harrier EV Review: Is It the Most High Te...</td>\n",
       "    </tr>\n",
       "    <tr>\n",
       "      <th>...</th>\n",
       "      <td>...</td>\n",
       "      <td>...</td>\n",
       "    </tr>\n",
       "    <tr>\n",
       "      <th>314</th>\n",
       "      <td>Sat, 11 May 2024 06:30:00 GMT</td>\n",
       "      <td>Tata Motors India biz now debt free - ET Auto</td>\n",
       "    </tr>\n",
       "    <tr>\n",
       "      <th>315</th>\n",
       "      <td>Thu, 13 Feb 2025 13:40:00 GMT</td>\n",
       "      <td>How Tata Motors plans to take a lead in EV cha...</td>\n",
       "    </tr>\n",
       "    <tr>\n",
       "      <th>316</th>\n",
       "      <td>Mon, 28 Jun 2021 15:45:00 GMT</td>\n",
       "      <td>Tata Motors plans 10 new electric vehicles by ...</td>\n",
       "    </tr>\n",
       "    <tr>\n",
       "      <th>317</th>\n",
       "      <td>Fri, 01 Oct 2021 15:38:00 GMT</td>\n",
       "      <td>Tata Motors records 55% sales growth in Q2 of ...</td>\n",
       "    </tr>\n",
       "    <tr>\n",
       "      <th>318</th>\n",
       "      <td>Tue, 03 Jun 2025 09:42:00 GMT</td>\n",
       "      <td>2025 Tata Harrier EV Launched In India At Rs 2...</td>\n",
       "    </tr>\n",
       "  </tbody>\n",
       "</table>\n",
       "<p>319 rows × 2 columns</p>\n",
       "</div>"
      ],
      "text/plain": [
       "                              Date  \\\n",
       "0    Mon, 21 Jul 2025 06:00:00 GMT   \n",
       "1    Wed, 23 Jul 2025 01:34:00 GMT   \n",
       "2    Mon, 21 Jul 2025 04:52:00 GMT   \n",
       "3    Tue, 22 Jul 2025 03:54:00 GMT   \n",
       "4    Tue, 22 Jul 2025 00:00:00 GMT   \n",
       "..                             ...   \n",
       "314  Sat, 11 May 2024 06:30:00 GMT   \n",
       "315  Thu, 13 Feb 2025 13:40:00 GMT   \n",
       "316  Mon, 28 Jun 2021 15:45:00 GMT   \n",
       "317  Fri, 01 Oct 2021 15:38:00 GMT   \n",
       "318  Tue, 03 Jun 2025 09:42:00 GMT   \n",
       "\n",
       "                                                 Title  \n",
       "0    Tata Motors Share Price Live Updates: Tata Mot...  \n",
       "1    Stock Market Live: Nifty Above 25,100, Sensex ...  \n",
       "2    Top Stock Picks This Week: Vishal Mega Mart, S...  \n",
       "3    Eternal share price rise: Zomato & Blinkit par...  \n",
       "4    Tata Harrier EV Review: Is It the Most High Te...  \n",
       "..                                                 ...  \n",
       "314      Tata Motors India biz now debt free - ET Auto  \n",
       "315  How Tata Motors plans to take a lead in EV cha...  \n",
       "316  Tata Motors plans 10 new electric vehicles by ...  \n",
       "317  Tata Motors records 55% sales growth in Q2 of ...  \n",
       "318  2025 Tata Harrier EV Launched In India At Rs 2...  \n",
       "\n",
       "[319 rows x 2 columns]"
      ]
     },
     "execution_count": 8,
     "metadata": {},
     "output_type": "execute_result"
    }
   ],
   "source": [
    "df = get_bing_news(\"Tata Motors\", 33)\n",
    "df"
   ]
  },
  {
   "cell_type": "code",
   "execution_count": 12,
   "id": "17701ee9",
   "metadata": {},
   "outputs": [
    {
     "data": {
      "text/plain": [
       "Date                           Title                                                                     \n",
       "Fri, 01 Oct 2021 15:38:00 GMT  Tata Motors records 55% sales growth in Q2 of FY22                            13\n",
       "Sat, 05 Jul 2025 08:30:00 GMT  Tata Motors plots new product onslaught with Rs 35,000 cr overhaul            13\n",
       "Mon, 28 Jun 2021 15:45:00 GMT  Tata Motors plans 10 new electric vehicles by 2025                            13\n",
       "Thu, 13 Feb 2025 13:40:00 GMT  How Tata Motors plans to take a lead in EV charging ecosystem                 13\n",
       "Thu, 30 Jan 2025 12:46:00 GMT  Tata Motors shares fall 9%, hit 52-week low on weak Q3 earnings               13\n",
       "                                                                                                             ..\n",
       "Wed, 23 Jul 2025 05:26:16 GMT  Lightning fast! This new EV with its dual motors goes the distance             1\n",
       "Wed, 26 Jul 2023 09:00:00 GMT  The Tata Group has built an electric vehicle universe. Can it help its ...     1\n",
       "Wed, 28 Jun 2023 11:34:00 GMT  Tata Motors shares hit record high after CLSA raises target price              1\n",
       "Wed, 28 Jun 2023 15:04:00 GMT  Tata Motors expects EVs to account for 50 percent of passenger vehicle ...     1\n",
       "Wed, 29 Jan 2025 09:30:00 GMT  Tata Motors share price up 2%; Here are 4 things to know ahead of Q3 ...       1\n",
       "Name: count, Length: 198, dtype: int64"
      ]
     },
     "execution_count": 12,
     "metadata": {},
     "output_type": "execute_result"
    }
   ],
   "source": [
    "df.value_counts()"
   ]
  },
  {
   "cell_type": "code",
   "execution_count": null,
   "id": "8eae3746",
   "metadata": {},
   "outputs": [],
   "source": []
  }
 ],
 "metadata": {
  "kernelspec": {
   "display_name": "Python 3",
   "language": "python",
   "name": "python3"
  },
  "language_info": {
   "codemirror_mode": {
    "name": "ipython",
    "version": 3
   },
   "file_extension": ".py",
   "mimetype": "text/x-python",
   "name": "python",
   "nbconvert_exporter": "python",
   "pygments_lexer": "ipython3",
   "version": "3.13.5"
  }
 },
 "nbformat": 4,
 "nbformat_minor": 5
}
