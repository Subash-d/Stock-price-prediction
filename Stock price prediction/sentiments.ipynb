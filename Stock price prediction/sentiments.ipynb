{
 "cells": [
  {
   "cell_type": "code",
   "execution_count": 2,
   "metadata": {},
   "outputs": [],
   "source": [
    "import requests\n",
    "from bs4 import BeautifulSoup\n",
    "from textblob import TextBlob\n",
    "import pandas as pd\n",
    "from datetime import datetime\n",
    "from vaderSentiment.vaderSentiment import SentimentIntensityAnalyzer\n"
   ]
  },
  {
   "cell_type": "code",
   "execution_count": 27,
   "metadata": {},
   "outputs": [],
   "source": [
    "data = pd.read_csv(\"stock_price.csv\")"
   ]
  },
  {
   "cell_type": "code",
   "execution_count": 28,
   "metadata": {},
   "outputs": [
    {
     "data": {
      "text/html": [
       "<div>\n",
       "<style scoped>\n",
       "    .dataframe tbody tr th:only-of-type {\n",
       "        vertical-align: middle;\n",
       "    }\n",
       "\n",
       "    .dataframe tbody tr th {\n",
       "        vertical-align: top;\n",
       "    }\n",
       "\n",
       "    .dataframe thead th {\n",
       "        text-align: right;\n",
       "    }\n",
       "</style>\n",
       "<table border=\"1\" class=\"dataframe\">\n",
       "  <thead>\n",
       "    <tr style=\"text-align: right;\">\n",
       "      <th></th>\n",
       "      <th>Date</th>\n",
       "      <th>Close</th>\n",
       "      <th>High</th>\n",
       "      <th>Low</th>\n",
       "      <th>Open</th>\n",
       "      <th>Volume</th>\n",
       "    </tr>\n",
       "  </thead>\n",
       "  <tbody>\n",
       "    <tr>\n",
       "      <th>0</th>\n",
       "      <td>2022-03-02</td>\n",
       "      <td>442.41</td>\n",
       "      <td>448.98</td>\n",
       "      <td>439.39</td>\n",
       "      <td>447.69</td>\n",
       "      <td>25791134</td>\n",
       "    </tr>\n",
       "    <tr>\n",
       "      <th>1</th>\n",
       "      <td>2022-03-03</td>\n",
       "      <td>432.03</td>\n",
       "      <td>453.18</td>\n",
       "      <td>429.95</td>\n",
       "      <td>453.18</td>\n",
       "      <td>29599672</td>\n",
       "    </tr>\n",
       "    <tr>\n",
       "      <th>2</th>\n",
       "      <td>2022-03-04</td>\n",
       "      <td>412.41</td>\n",
       "      <td>426.84</td>\n",
       "      <td>409.94</td>\n",
       "      <td>426.84</td>\n",
       "      <td>38765185</td>\n",
       "    </tr>\n",
       "    <tr>\n",
       "      <th>3</th>\n",
       "      <td>2022-03-07</td>\n",
       "      <td>389.43</td>\n",
       "      <td>397.09</td>\n",
       "      <td>383.00</td>\n",
       "      <td>397.09</td>\n",
       "      <td>44836205</td>\n",
       "    </tr>\n",
       "    <tr>\n",
       "      <th>4</th>\n",
       "      <td>2022-03-08</td>\n",
       "      <td>387.20</td>\n",
       "      <td>390.86</td>\n",
       "      <td>371.98</td>\n",
       "      <td>385.97</td>\n",
       "      <td>55543383</td>\n",
       "    </tr>\n",
       "  </tbody>\n",
       "</table>\n",
       "</div>"
      ],
      "text/plain": [
       "         Date   Close    High     Low    Open    Volume\n",
       "0  2022-03-02  442.41  448.98  439.39  447.69  25791134\n",
       "1  2022-03-03  432.03  453.18  429.95  453.18  29599672\n",
       "2  2022-03-04  412.41  426.84  409.94  426.84  38765185\n",
       "3  2022-03-07  389.43  397.09  383.00  397.09  44836205\n",
       "4  2022-03-08  387.20  390.86  371.98  385.97  55543383"
      ]
     },
     "execution_count": 28,
     "metadata": {},
     "output_type": "execute_result"
    }
   ],
   "source": [
    "data.head()"
   ]
  },
  {
   "cell_type": "code",
   "execution_count": 29,
   "metadata": {},
   "outputs": [
    {
     "data": {
      "text/html": [
       "<div>\n",
       "<style scoped>\n",
       "    .dataframe tbody tr th:only-of-type {\n",
       "        vertical-align: middle;\n",
       "    }\n",
       "\n",
       "    .dataframe tbody tr th {\n",
       "        vertical-align: top;\n",
       "    }\n",
       "\n",
       "    .dataframe thead th {\n",
       "        text-align: right;\n",
       "    }\n",
       "</style>\n",
       "<table border=\"1\" class=\"dataframe\">\n",
       "  <thead>\n",
       "    <tr style=\"text-align: right;\">\n",
       "      <th></th>\n",
       "      <th>Date</th>\n",
       "      <th>Close</th>\n",
       "      <th>High</th>\n",
       "      <th>Low</th>\n",
       "      <th>Open</th>\n",
       "      <th>Volume</th>\n",
       "    </tr>\n",
       "  </thead>\n",
       "  <tbody>\n",
       "    <tr>\n",
       "      <th>804</th>\n",
       "      <td>2025-06-05</td>\n",
       "      <td>710.15</td>\n",
       "      <td>714.45</td>\n",
       "      <td>704.00</td>\n",
       "      <td>712.80</td>\n",
       "      <td>10203331</td>\n",
       "    </tr>\n",
       "    <tr>\n",
       "      <th>805</th>\n",
       "      <td>2025-06-06</td>\n",
       "      <td>711.00</td>\n",
       "      <td>715.90</td>\n",
       "      <td>701.20</td>\n",
       "      <td>710.00</td>\n",
       "      <td>11975812</td>\n",
       "    </tr>\n",
       "    <tr>\n",
       "      <th>806</th>\n",
       "      <td>2025-06-09</td>\n",
       "      <td>717.80</td>\n",
       "      <td>726.00</td>\n",
       "      <td>713.10</td>\n",
       "      <td>715.00</td>\n",
       "      <td>9900412</td>\n",
       "    </tr>\n",
       "    <tr>\n",
       "      <th>807</th>\n",
       "      <td>2025-06-10</td>\n",
       "      <td>732.25</td>\n",
       "      <td>734.75</td>\n",
       "      <td>715.35</td>\n",
       "      <td>721.00</td>\n",
       "      <td>19151889</td>\n",
       "    </tr>\n",
       "    <tr>\n",
       "      <th>808</th>\n",
       "      <td>2025-06-11</td>\n",
       "      <td>736.40</td>\n",
       "      <td>744.00</td>\n",
       "      <td>730.15</td>\n",
       "      <td>734.95</td>\n",
       "      <td>12626754</td>\n",
       "    </tr>\n",
       "  </tbody>\n",
       "</table>\n",
       "</div>"
      ],
      "text/plain": [
       "           Date   Close    High     Low    Open    Volume\n",
       "804  2025-06-05  710.15  714.45  704.00  712.80  10203331\n",
       "805  2025-06-06  711.00  715.90  701.20  710.00  11975812\n",
       "806  2025-06-09  717.80  726.00  713.10  715.00   9900412\n",
       "807  2025-06-10  732.25  734.75  715.35  721.00  19151889\n",
       "808  2025-06-11  736.40  744.00  730.15  734.95  12626754"
      ]
     },
     "execution_count": 29,
     "metadata": {},
     "output_type": "execute_result"
    }
   ],
   "source": [
    "data.tail()"
   ]
  },
  {
   "cell_type": "code",
   "execution_count": 34,
   "metadata": {},
   "outputs": [
    {
     "data": {
      "text/html": [
       "<div>\n",
       "<style scoped>\n",
       "    .dataframe tbody tr th:only-of-type {\n",
       "        vertical-align: middle;\n",
       "    }\n",
       "\n",
       "    .dataframe tbody tr th {\n",
       "        vertical-align: top;\n",
       "    }\n",
       "\n",
       "    .dataframe thead th {\n",
       "        text-align: right;\n",
       "    }\n",
       "</style>\n",
       "<table border=\"1\" class=\"dataframe\">\n",
       "  <thead>\n",
       "    <tr style=\"text-align: right;\">\n",
       "      <th></th>\n",
       "      <th>Date</th>\n",
       "      <th>Close</th>\n",
       "      <th>High</th>\n",
       "      <th>Low</th>\n",
       "      <th>Open</th>\n",
       "      <th>Volume</th>\n",
       "    </tr>\n",
       "  </thead>\n",
       "  <tbody>\n",
       "    <tr>\n",
       "      <th>count</th>\n",
       "      <td>809</td>\n",
       "      <td>809.000000</td>\n",
       "      <td>809.000000</td>\n",
       "      <td>809.000000</td>\n",
       "      <td>809.000000</td>\n",
       "      <td>8.090000e+02</td>\n",
       "    </tr>\n",
       "    <tr>\n",
       "      <th>mean</th>\n",
       "      <td>2023-10-20 11:21:43.831891200</td>\n",
       "      <td>652.377491</td>\n",
       "      <td>660.807540</td>\n",
       "      <td>644.933857</td>\n",
       "      <td>653.855946</td>\n",
       "      <td>1.392031e+07</td>\n",
       "    </tr>\n",
       "    <tr>\n",
       "      <th>min</th>\n",
       "      <td>2022-03-02 00:00:00</td>\n",
       "      <td>367.980000</td>\n",
       "      <td>380.190000</td>\n",
       "      <td>361.950000</td>\n",
       "      <td>375.840000</td>\n",
       "      <td>0.000000e+00</td>\n",
       "    </tr>\n",
       "    <tr>\n",
       "      <th>25%</th>\n",
       "      <td>2022-12-23 00:00:00</td>\n",
       "      <td>434.990000</td>\n",
       "      <td>439.890000</td>\n",
       "      <td>429.950000</td>\n",
       "      <td>436.030000</td>\n",
       "      <td>8.957930e+06</td>\n",
       "    </tr>\n",
       "    <tr>\n",
       "      <th>50%</th>\n",
       "      <td>2023-10-18 00:00:00</td>\n",
       "      <td>625.170000</td>\n",
       "      <td>634.740000</td>\n",
       "      <td>620.860000</td>\n",
       "      <td>628.620000</td>\n",
       "      <td>1.187177e+07</td>\n",
       "    </tr>\n",
       "    <tr>\n",
       "      <th>75%</th>\n",
       "      <td>2024-08-19 00:00:00</td>\n",
       "      <td>801.560000</td>\n",
       "      <td>811.570000</td>\n",
       "      <td>790.650000</td>\n",
       "      <td>804.090000</td>\n",
       "      <td>1.576269e+07</td>\n",
       "    </tr>\n",
       "    <tr>\n",
       "      <th>max</th>\n",
       "      <td>2025-06-11 00:00:00</td>\n",
       "      <td>1151.950000</td>\n",
       "      <td>1168.950000</td>\n",
       "      <td>1135.540000</td>\n",
       "      <td>1157.050000</td>\n",
       "      <td>7.142575e+07</td>\n",
       "    </tr>\n",
       "    <tr>\n",
       "      <th>std</th>\n",
       "      <td>NaN</td>\n",
       "      <td>216.189463</td>\n",
       "      <td>219.073222</td>\n",
       "      <td>213.605807</td>\n",
       "      <td>216.906128</td>\n",
       "      <td>8.619822e+06</td>\n",
       "    </tr>\n",
       "  </tbody>\n",
       "</table>\n",
       "</div>"
      ],
      "text/plain": [
       "                                Date        Close         High          Low  \\\n",
       "count                            809   809.000000   809.000000   809.000000   \n",
       "mean   2023-10-20 11:21:43.831891200   652.377491   660.807540   644.933857   \n",
       "min              2022-03-02 00:00:00   367.980000   380.190000   361.950000   \n",
       "25%              2022-12-23 00:00:00   434.990000   439.890000   429.950000   \n",
       "50%              2023-10-18 00:00:00   625.170000   634.740000   620.860000   \n",
       "75%              2024-08-19 00:00:00   801.560000   811.570000   790.650000   \n",
       "max              2025-06-11 00:00:00  1151.950000  1168.950000  1135.540000   \n",
       "std                              NaN   216.189463   219.073222   213.605807   \n",
       "\n",
       "              Open        Volume  \n",
       "count   809.000000  8.090000e+02  \n",
       "mean    653.855946  1.392031e+07  \n",
       "min     375.840000  0.000000e+00  \n",
       "25%     436.030000  8.957930e+06  \n",
       "50%     628.620000  1.187177e+07  \n",
       "75%     804.090000  1.576269e+07  \n",
       "max    1157.050000  7.142575e+07  \n",
       "std     216.906128  8.619822e+06  "
      ]
     },
     "execution_count": 34,
     "metadata": {},
     "output_type": "execute_result"
    }
   ],
   "source": [
    "data.describe()"
   ]
  },
  {
   "cell_type": "code",
   "execution_count": 33,
   "metadata": {},
   "outputs": [],
   "source": [
    "data[\"Date\"] = pd.to_datetime(data[\"Date\"])"
   ]
  },
  {
   "cell_type": "code",
   "execution_count": 36,
   "metadata": {},
   "outputs": [
    {
     "name": "stdout",
     "output_type": "stream",
     "text": [
      "<class 'pandas.core.frame.DataFrame'>\n",
      "RangeIndex: 809 entries, 0 to 808\n",
      "Data columns (total 6 columns):\n",
      " #   Column  Non-Null Count  Dtype         \n",
      "---  ------  --------------  -----         \n",
      " 0   Date    809 non-null    datetime64[ns]\n",
      " 1   Close   809 non-null    float64       \n",
      " 2   High    809 non-null    float64       \n",
      " 3   Low     809 non-null    float64       \n",
      " 4   Open    809 non-null    float64       \n",
      " 5   Volume  809 non-null    int64         \n",
      "dtypes: datetime64[ns](1), float64(4), int64(1)\n",
      "memory usage: 38.1 KB\n"
     ]
    }
   ],
   "source": [
    "data.info()"
   ]
  },
  {
   "cell_type": "code",
   "execution_count": 7,
   "metadata": {},
   "outputs": [],
   "source": [
    "H_df = pd.read_csv(\"head.csv\",encoding=\"latin 1\")"
   ]
  },
  {
   "cell_type": "code",
   "execution_count": 8,
   "metadata": {},
   "outputs": [
    {
     "data": {
      "text/html": [
       "<div>\n",
       "<style scoped>\n",
       "    .dataframe tbody tr th:only-of-type {\n",
       "        vertical-align: middle;\n",
       "    }\n",
       "\n",
       "    .dataframe tbody tr th {\n",
       "        vertical-align: top;\n",
       "    }\n",
       "\n",
       "    .dataframe thead th {\n",
       "        text-align: right;\n",
       "    }\n",
       "</style>\n",
       "<table border=\"1\" class=\"dataframe\">\n",
       "  <thead>\n",
       "    <tr style=\"text-align: right;\">\n",
       "      <th></th>\n",
       "      <th>Date</th>\n",
       "      <th>Headline</th>\n",
       "    </tr>\n",
       "  </thead>\n",
       "  <tbody>\n",
       "    <tr>\n",
       "      <th>0</th>\n",
       "      <td>01-01-2022</td>\n",
       "      <td>Tata Motors overtakes Hyundai to grab the numb...</td>\n",
       "    </tr>\n",
       "    <tr>\n",
       "      <th>1</th>\n",
       "      <td>01-01-2022</td>\n",
       "      <td>Honda Cars reports 26 pc jump in wholesales fo...</td>\n",
       "    </tr>\n",
       "    <tr>\n",
       "      <th>2</th>\n",
       "      <td>01-01-2022</td>\n",
       "      <td>Tata Motors reports 50 pc jump in PV sales to ...</td>\n",
       "    </tr>\n",
       "    <tr>\n",
       "      <th>3</th>\n",
       "      <td>02-01-2022</td>\n",
       "      <td>PM Modi can't claim to be 'fakir' after adding...</td>\n",
       "    </tr>\n",
       "    <tr>\n",
       "      <th>4</th>\n",
       "      <td>02-01-2022</td>\n",
       "      <td>Going electric: Is the EV two-wheeler buzz rea...</td>\n",
       "    </tr>\n",
       "  </tbody>\n",
       "</table>\n",
       "</div>"
      ],
      "text/plain": [
       "         Date                                           Headline\n",
       "0  01-01-2022  Tata Motors overtakes Hyundai to grab the numb...\n",
       "1  01-01-2022  Honda Cars reports 26 pc jump in wholesales fo...\n",
       "2  01-01-2022  Tata Motors reports 50 pc jump in PV sales to ...\n",
       "3  02-01-2022  PM Modi can't claim to be 'fakir' after adding...\n",
       "4  02-01-2022  Going electric: Is the EV two-wheeler buzz rea..."
      ]
     },
     "execution_count": 8,
     "metadata": {},
     "output_type": "execute_result"
    }
   ],
   "source": [
    "H_df.head()"
   ]
  },
  {
   "cell_type": "code",
   "execution_count": 9,
   "metadata": {},
   "outputs": [
    {
     "data": {
      "text/html": [
       "<div>\n",
       "<style scoped>\n",
       "    .dataframe tbody tr th:only-of-type {\n",
       "        vertical-align: middle;\n",
       "    }\n",
       "\n",
       "    .dataframe tbody tr th {\n",
       "        vertical-align: top;\n",
       "    }\n",
       "\n",
       "    .dataframe thead th {\n",
       "        text-align: right;\n",
       "    }\n",
       "</style>\n",
       "<table border=\"1\" class=\"dataframe\">\n",
       "  <thead>\n",
       "    <tr style=\"text-align: right;\">\n",
       "      <th></th>\n",
       "      <th>Date</th>\n",
       "      <th>Headline</th>\n",
       "    </tr>\n",
       "  </thead>\n",
       "  <tbody>\n",
       "    <tr>\n",
       "      <th>6297</th>\n",
       "      <td>11-06-2025</td>\n",
       "      <td>Reduce Tata Motors, target price Rs 733:  HDFC...</td>\n",
       "    </tr>\n",
       "    <tr>\n",
       "      <th>6298</th>\n",
       "      <td>11-06-2025</td>\n",
       "      <td>Tata Electronics sends hundreds of staff to Ta...</td>\n",
       "    </tr>\n",
       "    <tr>\n",
       "      <th>6299</th>\n",
       "      <td>11-06-2025</td>\n",
       "      <td>Qcomm cos on govt radar; Tata upskills in Taiwan</td>\n",
       "    </tr>\n",
       "    <tr>\n",
       "      <th>6300</th>\n",
       "      <td>11-06-2025</td>\n",
       "      <td>New directors set to board Tata Sons with â?3...</td>\n",
       "    </tr>\n",
       "    <tr>\n",
       "      <th>6301</th>\n",
       "      <td>11-06-2025</td>\n",
       "      <td>These 2 Tata Group companies to trade ex-divid...</td>\n",
       "    </tr>\n",
       "  </tbody>\n",
       "</table>\n",
       "</div>"
      ],
      "text/plain": [
       "            Date                                           Headline\n",
       "6297  11-06-2025  Reduce Tata Motors, target price Rs 733:  HDFC...\n",
       "6298  11-06-2025  Tata Electronics sends hundreds of staff to Ta...\n",
       "6299  11-06-2025   Qcomm cos on govt radar; Tata upskills in Taiwan\n",
       "6300  11-06-2025  New directors set to board Tata Sons with â?3...\n",
       "6301  11-06-2025  These 2 Tata Group companies to trade ex-divid..."
      ]
     },
     "execution_count": 9,
     "metadata": {},
     "output_type": "execute_result"
    }
   ],
   "source": [
    "H_df.tail()"
   ]
  },
  {
   "cell_type": "code",
   "execution_count": 10,
   "metadata": {},
   "outputs": [
    {
     "name": "stdout",
     "output_type": "stream",
     "text": [
      "<class 'pandas.core.frame.DataFrame'>\n",
      "RangeIndex: 6302 entries, 0 to 6301\n",
      "Data columns (total 2 columns):\n",
      " #   Column    Non-Null Count  Dtype \n",
      "---  ------    --------------  ----- \n",
      " 0   Date      6302 non-null   object\n",
      " 1   Headline  6302 non-null   object\n",
      "dtypes: object(2)\n",
      "memory usage: 98.6+ KB\n"
     ]
    }
   ],
   "source": [
    "H_df.info()"
   ]
  },
  {
   "cell_type": "code",
   "execution_count": 11,
   "metadata": {},
   "outputs": [],
   "source": [
    "H_df[\"Date\"] = pd.to_datetime(H_df[\"Date\"],format=\"%d-%m-%Y\")"
   ]
  },
  {
   "cell_type": "code",
   "execution_count": 12,
   "metadata": {},
   "outputs": [
    {
     "name": "stdout",
     "output_type": "stream",
     "text": [
      "<class 'pandas.core.frame.DataFrame'>\n",
      "RangeIndex: 6302 entries, 0 to 6301\n",
      "Data columns (total 2 columns):\n",
      " #   Column    Non-Null Count  Dtype         \n",
      "---  ------    --------------  -----         \n",
      " 0   Date      6302 non-null   datetime64[ns]\n",
      " 1   Headline  6302 non-null   object        \n",
      "dtypes: datetime64[ns](1), object(1)\n",
      "memory usage: 98.6+ KB\n"
     ]
    }
   ],
   "source": [
    "H_df.info()"
   ]
  },
  {
   "cell_type": "code",
   "execution_count": 13,
   "metadata": {},
   "outputs": [
    {
     "data": {
      "text/html": [
       "<div>\n",
       "<style scoped>\n",
       "    .dataframe tbody tr th:only-of-type {\n",
       "        vertical-align: middle;\n",
       "    }\n",
       "\n",
       "    .dataframe tbody tr th {\n",
       "        vertical-align: top;\n",
       "    }\n",
       "\n",
       "    .dataframe thead th {\n",
       "        text-align: right;\n",
       "    }\n",
       "</style>\n",
       "<table border=\"1\" class=\"dataframe\">\n",
       "  <thead>\n",
       "    <tr style=\"text-align: right;\">\n",
       "      <th></th>\n",
       "      <th>Date</th>\n",
       "    </tr>\n",
       "  </thead>\n",
       "  <tbody>\n",
       "    <tr>\n",
       "      <th>count</th>\n",
       "      <td>6302</td>\n",
       "    </tr>\n",
       "    <tr>\n",
       "      <th>mean</th>\n",
       "      <td>2023-07-25 02:56:24.068549888</td>\n",
       "    </tr>\n",
       "    <tr>\n",
       "      <th>min</th>\n",
       "      <td>2022-01-01 00:00:00</td>\n",
       "    </tr>\n",
       "    <tr>\n",
       "      <th>25%</th>\n",
       "      <td>2022-10-03 00:00:00</td>\n",
       "    </tr>\n",
       "    <tr>\n",
       "      <th>50%</th>\n",
       "      <td>2023-08-03 00:00:00</td>\n",
       "    </tr>\n",
       "    <tr>\n",
       "      <th>75%</th>\n",
       "      <td>2024-04-08 00:00:00</td>\n",
       "    </tr>\n",
       "    <tr>\n",
       "      <th>max</th>\n",
       "      <td>2025-06-11 00:00:00</td>\n",
       "    </tr>\n",
       "  </tbody>\n",
       "</table>\n",
       "</div>"
      ],
      "text/plain": [
       "                                Date\n",
       "count                           6302\n",
       "mean   2023-07-25 02:56:24.068549888\n",
       "min              2022-01-01 00:00:00\n",
       "25%              2022-10-03 00:00:00\n",
       "50%              2023-08-03 00:00:00\n",
       "75%              2024-04-08 00:00:00\n",
       "max              2025-06-11 00:00:00"
      ]
     },
     "execution_count": 13,
     "metadata": {},
     "output_type": "execute_result"
    }
   ],
   "source": [
    "H_df.describe()"
   ]
  },
  {
   "cell_type": "code",
   "execution_count": 14,
   "metadata": {},
   "outputs": [
    {
     "name": "stdout",
     "output_type": "stream",
     "text": [
      "Index(['Date', 'Headline'], dtype='object')\n"
     ]
    }
   ],
   "source": [
    "print(H_df.columns)"
   ]
  },
  {
   "cell_type": "code",
   "execution_count": 15,
   "metadata": {},
   "outputs": [],
   "source": [
    "analyzer = SentimentIntensityAnalyzer()\n",
    "H_df[\"sentiment\"] = H_df[\"Headline\"].apply(lambda x: analyzer.polarity_scores(str(x))[\"compound\"])"
   ]
  },
  {
   "cell_type": "code",
   "execution_count": 16,
   "metadata": {},
   "outputs": [],
   "source": [
    "daily_sentiment = H_df.groupby(\"Date\")[\"sentiment\"].sum().reset_index()"
   ]
  },
  {
   "cell_type": "code",
   "execution_count": 31,
   "metadata": {},
   "outputs": [
    {
     "data": {
      "text/html": [
       "<div>\n",
       "<style scoped>\n",
       "    .dataframe tbody tr th:only-of-type {\n",
       "        vertical-align: middle;\n",
       "    }\n",
       "\n",
       "    .dataframe tbody tr th {\n",
       "        vertical-align: top;\n",
       "    }\n",
       "\n",
       "    .dataframe thead th {\n",
       "        text-align: right;\n",
       "    }\n",
       "</style>\n",
       "<table border=\"1\" class=\"dataframe\">\n",
       "  <thead>\n",
       "    <tr style=\"text-align: right;\">\n",
       "      <th></th>\n",
       "      <th>Date</th>\n",
       "      <th>sentiment</th>\n",
       "    </tr>\n",
       "  </thead>\n",
       "  <tbody>\n",
       "    <tr>\n",
       "      <th>0</th>\n",
       "      <td>2022-01-01</td>\n",
       "      <td>0.0772</td>\n",
       "    </tr>\n",
       "    <tr>\n",
       "      <th>1</th>\n",
       "      <td>2022-01-02</td>\n",
       "      <td>0.0000</td>\n",
       "    </tr>\n",
       "    <tr>\n",
       "      <th>2</th>\n",
       "      <td>2022-01-03</td>\n",
       "      <td>-0.3166</td>\n",
       "    </tr>\n",
       "    <tr>\n",
       "      <th>3</th>\n",
       "      <td>2022-01-04</td>\n",
       "      <td>-0.4162</td>\n",
       "    </tr>\n",
       "    <tr>\n",
       "      <th>4</th>\n",
       "      <td>2022-01-05</td>\n",
       "      <td>1.1716</td>\n",
       "    </tr>\n",
       "  </tbody>\n",
       "</table>\n",
       "</div>"
      ],
      "text/plain": [
       "        Date  sentiment\n",
       "0 2022-01-01     0.0772\n",
       "1 2022-01-02     0.0000\n",
       "2 2022-01-03    -0.3166\n",
       "3 2022-01-04    -0.4162\n",
       "4 2022-01-05     1.1716"
      ]
     },
     "execution_count": 31,
     "metadata": {},
     "output_type": "execute_result"
    }
   ],
   "source": [
    "daily_sentiment.head()"
   ]
  },
  {
   "cell_type": "code",
   "execution_count": 30,
   "metadata": {},
   "outputs": [
    {
     "data": {
      "text/html": [
       "<div>\n",
       "<style scoped>\n",
       "    .dataframe tbody tr th:only-of-type {\n",
       "        vertical-align: middle;\n",
       "    }\n",
       "\n",
       "    .dataframe tbody tr th {\n",
       "        vertical-align: top;\n",
       "    }\n",
       "\n",
       "    .dataframe thead th {\n",
       "        text-align: right;\n",
       "    }\n",
       "</style>\n",
       "<table border=\"1\" class=\"dataframe\">\n",
       "  <thead>\n",
       "    <tr style=\"text-align: right;\">\n",
       "      <th></th>\n",
       "      <th>Date</th>\n",
       "      <th>sentiment</th>\n",
       "    </tr>\n",
       "  </thead>\n",
       "  <tbody>\n",
       "    <tr>\n",
       "      <th>971</th>\n",
       "      <td>2025-06-07</td>\n",
       "      <td>0.4535</td>\n",
       "    </tr>\n",
       "    <tr>\n",
       "      <th>972</th>\n",
       "      <td>2025-06-08</td>\n",
       "      <td>0.0000</td>\n",
       "    </tr>\n",
       "    <tr>\n",
       "      <th>973</th>\n",
       "      <td>2025-06-09</td>\n",
       "      <td>0.2800</td>\n",
       "    </tr>\n",
       "    <tr>\n",
       "      <th>974</th>\n",
       "      <td>2025-06-10</td>\n",
       "      <td>0.7351</td>\n",
       "    </tr>\n",
       "    <tr>\n",
       "      <th>975</th>\n",
       "      <td>2025-06-11</td>\n",
       "      <td>1.5740</td>\n",
       "    </tr>\n",
       "  </tbody>\n",
       "</table>\n",
       "</div>"
      ],
      "text/plain": [
       "          Date  sentiment\n",
       "971 2025-06-07     0.4535\n",
       "972 2025-06-08     0.0000\n",
       "973 2025-06-09     0.2800\n",
       "974 2025-06-10     0.7351\n",
       "975 2025-06-11     1.5740"
      ]
     },
     "execution_count": 30,
     "metadata": {},
     "output_type": "execute_result"
    }
   ],
   "source": [
    "daily_sentiment.tail()"
   ]
  },
  {
   "cell_type": "code",
   "execution_count": 37,
   "metadata": {},
   "outputs": [],
   "source": [
    "merged_df = pd.merge(data,daily_sentiment,on = \"Date\",how = \"left\")"
   ]
  },
  {
   "cell_type": "code",
   "execution_count": 40,
   "metadata": {},
   "outputs": [
    {
     "data": {
      "text/html": [
       "<div>\n",
       "<style scoped>\n",
       "    .dataframe tbody tr th:only-of-type {\n",
       "        vertical-align: middle;\n",
       "    }\n",
       "\n",
       "    .dataframe tbody tr th {\n",
       "        vertical-align: top;\n",
       "    }\n",
       "\n",
       "    .dataframe thead th {\n",
       "        text-align: right;\n",
       "    }\n",
       "</style>\n",
       "<table border=\"1\" class=\"dataframe\">\n",
       "  <thead>\n",
       "    <tr style=\"text-align: right;\">\n",
       "      <th></th>\n",
       "      <th>Date</th>\n",
       "      <th>Close</th>\n",
       "      <th>High</th>\n",
       "      <th>Low</th>\n",
       "      <th>Open</th>\n",
       "      <th>Volume</th>\n",
       "      <th>sentiment</th>\n",
       "    </tr>\n",
       "  </thead>\n",
       "  <tbody>\n",
       "    <tr>\n",
       "      <th>0</th>\n",
       "      <td>2022-03-02</td>\n",
       "      <td>442.41</td>\n",
       "      <td>448.98</td>\n",
       "      <td>439.39</td>\n",
       "      <td>447.69</td>\n",
       "      <td>25791134</td>\n",
       "      <td>-0.8141</td>\n",
       "    </tr>\n",
       "    <tr>\n",
       "      <th>1</th>\n",
       "      <td>2022-03-03</td>\n",
       "      <td>432.03</td>\n",
       "      <td>453.18</td>\n",
       "      <td>429.95</td>\n",
       "      <td>453.18</td>\n",
       "      <td>29599672</td>\n",
       "      <td>0.8383</td>\n",
       "    </tr>\n",
       "    <tr>\n",
       "      <th>2</th>\n",
       "      <td>2022-03-04</td>\n",
       "      <td>412.41</td>\n",
       "      <td>426.84</td>\n",
       "      <td>409.94</td>\n",
       "      <td>426.84</td>\n",
       "      <td>38765185</td>\n",
       "      <td>0.7921</td>\n",
       "    </tr>\n",
       "    <tr>\n",
       "      <th>3</th>\n",
       "      <td>2022-03-07</td>\n",
       "      <td>389.43</td>\n",
       "      <td>397.09</td>\n",
       "      <td>383.00</td>\n",
       "      <td>397.09</td>\n",
       "      <td>44836205</td>\n",
       "      <td>0.3699</td>\n",
       "    </tr>\n",
       "    <tr>\n",
       "      <th>4</th>\n",
       "      <td>2022-03-08</td>\n",
       "      <td>387.20</td>\n",
       "      <td>390.86</td>\n",
       "      <td>371.98</td>\n",
       "      <td>385.97</td>\n",
       "      <td>55543383</td>\n",
       "      <td>0.6037</td>\n",
       "    </tr>\n",
       "  </tbody>\n",
       "</table>\n",
       "</div>"
      ],
      "text/plain": [
       "        Date   Close    High     Low    Open    Volume  sentiment\n",
       "0 2022-03-02  442.41  448.98  439.39  447.69  25791134    -0.8141\n",
       "1 2022-03-03  432.03  453.18  429.95  453.18  29599672     0.8383\n",
       "2 2022-03-04  412.41  426.84  409.94  426.84  38765185     0.7921\n",
       "3 2022-03-07  389.43  397.09  383.00  397.09  44836205     0.3699\n",
       "4 2022-03-08  387.20  390.86  371.98  385.97  55543383     0.6037"
      ]
     },
     "execution_count": 40,
     "metadata": {},
     "output_type": "execute_result"
    }
   ],
   "source": [
    "merged_df.head()"
   ]
  },
  {
   "cell_type": "code",
   "execution_count": 39,
   "metadata": {},
   "outputs": [
    {
     "data": {
      "text/html": [
       "<div>\n",
       "<style scoped>\n",
       "    .dataframe tbody tr th:only-of-type {\n",
       "        vertical-align: middle;\n",
       "    }\n",
       "\n",
       "    .dataframe tbody tr th {\n",
       "        vertical-align: top;\n",
       "    }\n",
       "\n",
       "    .dataframe thead th {\n",
       "        text-align: right;\n",
       "    }\n",
       "</style>\n",
       "<table border=\"1\" class=\"dataframe\">\n",
       "  <thead>\n",
       "    <tr style=\"text-align: right;\">\n",
       "      <th></th>\n",
       "      <th>Date</th>\n",
       "      <th>Close</th>\n",
       "      <th>High</th>\n",
       "      <th>Low</th>\n",
       "      <th>Open</th>\n",
       "      <th>Volume</th>\n",
       "      <th>sentiment</th>\n",
       "    </tr>\n",
       "  </thead>\n",
       "  <tbody>\n",
       "    <tr>\n",
       "      <th>804</th>\n",
       "      <td>2025-06-05</td>\n",
       "      <td>710.15</td>\n",
       "      <td>714.45</td>\n",
       "      <td>704.00</td>\n",
       "      <td>712.80</td>\n",
       "      <td>10203331</td>\n",
       "      <td>2.0623</td>\n",
       "    </tr>\n",
       "    <tr>\n",
       "      <th>805</th>\n",
       "      <td>2025-06-06</td>\n",
       "      <td>711.00</td>\n",
       "      <td>715.90</td>\n",
       "      <td>701.20</td>\n",
       "      <td>710.00</td>\n",
       "      <td>11975812</td>\n",
       "      <td>-0.4484</td>\n",
       "    </tr>\n",
       "    <tr>\n",
       "      <th>806</th>\n",
       "      <td>2025-06-09</td>\n",
       "      <td>717.80</td>\n",
       "      <td>726.00</td>\n",
       "      <td>713.10</td>\n",
       "      <td>715.00</td>\n",
       "      <td>9900412</td>\n",
       "      <td>0.2800</td>\n",
       "    </tr>\n",
       "    <tr>\n",
       "      <th>807</th>\n",
       "      <td>2025-06-10</td>\n",
       "      <td>732.25</td>\n",
       "      <td>734.75</td>\n",
       "      <td>715.35</td>\n",
       "      <td>721.00</td>\n",
       "      <td>19151889</td>\n",
       "      <td>0.7351</td>\n",
       "    </tr>\n",
       "    <tr>\n",
       "      <th>808</th>\n",
       "      <td>2025-06-11</td>\n",
       "      <td>736.40</td>\n",
       "      <td>744.00</td>\n",
       "      <td>730.15</td>\n",
       "      <td>734.95</td>\n",
       "      <td>12626754</td>\n",
       "      <td>1.5740</td>\n",
       "    </tr>\n",
       "  </tbody>\n",
       "</table>\n",
       "</div>"
      ],
      "text/plain": [
       "          Date   Close    High     Low    Open    Volume  sentiment\n",
       "804 2025-06-05  710.15  714.45  704.00  712.80  10203331     2.0623\n",
       "805 2025-06-06  711.00  715.90  701.20  710.00  11975812    -0.4484\n",
       "806 2025-06-09  717.80  726.00  713.10  715.00   9900412     0.2800\n",
       "807 2025-06-10  732.25  734.75  715.35  721.00  19151889     0.7351\n",
       "808 2025-06-11  736.40  744.00  730.15  734.95  12626754     1.5740"
      ]
     },
     "execution_count": 39,
     "metadata": {},
     "output_type": "execute_result"
    }
   ],
   "source": [
    "merged_df.tail()"
   ]
  },
  {
   "cell_type": "code",
   "execution_count": 41,
   "metadata": {},
   "outputs": [
    {
     "data": {
      "text/plain": [
       "Date           0\n",
       "Close          0\n",
       "High           0\n",
       "Low            0\n",
       "Open           0\n",
       "Volume         0\n",
       "sentiment    169\n",
       "dtype: int64"
      ]
     },
     "execution_count": 41,
     "metadata": {},
     "output_type": "execute_result"
    }
   ],
   "source": [
    "merged_df.isnull().sum()"
   ]
  },
  {
   "cell_type": "code",
   "execution_count": 42,
   "metadata": {},
   "outputs": [
    {
     "name": "stderr",
     "output_type": "stream",
     "text": [
      "C:\\Users\\HP\\AppData\\Local\\Temp\\ipykernel_3920\\2030220110.py:1: FutureWarning: A value is trying to be set on a copy of a DataFrame or Series through chained assignment using an inplace method.\n",
      "The behavior will change in pandas 3.0. This inplace method will never work because the intermediate object on which we are setting values always behaves as a copy.\n",
      "\n",
      "For example, when doing 'df[col].method(value, inplace=True)', try using 'df.method({col: value}, inplace=True)' or df[col] = df[col].method(value) instead, to perform the operation inplace on the original object.\n",
      "\n",
      "\n",
      "  merged_df[\"sentiment\"].fillna(0,inplace=True)\n"
     ]
    }
   ],
   "source": [
    "merged_df[\"sentiment\"].fillna(0,inplace=True)"
   ]
  },
  {
   "cell_type": "code",
   "execution_count": 43,
   "metadata": {},
   "outputs": [
    {
     "data": {
      "text/plain": [
       "Date         0\n",
       "Close        0\n",
       "High         0\n",
       "Low          0\n",
       "Open         0\n",
       "Volume       0\n",
       "sentiment    0\n",
       "dtype: int64"
      ]
     },
     "execution_count": 43,
     "metadata": {},
     "output_type": "execute_result"
    }
   ],
   "source": [
    "merged_df.isnull().sum()"
   ]
  }
 ],
 "metadata": {
  "kernelspec": {
   "display_name": "Python 3",
   "language": "python",
   "name": "python3"
  },
  "language_info": {
   "codemirror_mode": {
    "name": "ipython",
    "version": 3
   },
   "file_extension": ".py",
   "mimetype": "text/x-python",
   "name": "python",
   "nbconvert_exporter": "python",
   "pygments_lexer": "ipython3",
   "version": "3.11.6"
  },
  "orig_nbformat": 4
 },
 "nbformat": 4,
 "nbformat_minor": 2
}
